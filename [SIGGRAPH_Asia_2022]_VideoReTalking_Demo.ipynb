{
  "nbformat": 4,
  "nbformat_minor": 0,
  "metadata": {
    "colab": {
      "provenance": []
    },
    "kernelspec": {
      "name": "python3",
      "display_name": "Python 3"
    },
    "language_info": {
      "name": "python"
    },
    "accelerator": "GPU",
    "gpuClass": "standard"
  },
  "cells": [
    {
      "cell_type": "markdown",
      "source": [
        "**Prepared and Maintained by [justinjohn-03](https://github.com/justinjohn0306/)**"
      ],
      "metadata": {
        "id": "maqWuu8w3dfc"
      }
    },
    {
      "cell_type": "code",
      "execution_count": null,
      "metadata": {
        "cellView": "form",
        "id": "45IpwJuQv19C"
      },
      "outputs": [],
      "source": [
        "#@markdown ###**Clone repository and install requirements**\n",
        "\n",
        "!git clone https://github.com/vinthony/video-retalking\n",
        "\n",
        "%cd video-retalking\n",
        "\n",
        "!pip uninstall gdown -y\n",
        "\n",
        "!pip install git+https://github.com/wkentaro/gdown.git\n",
        "\n",
        "!pip install -r requirements.txt"
      ]
    },
    {
      "cell_type": "code",
      "source": [
        "#@markdown ## **Download the pretrained models**\n",
        "\n",
        "%cd /content/video-retalking\n",
        "\n",
        "import gdown\n",
        "\n",
        "gdown.download(\"https://drive.google.com/uc?id=1Qtg-GVUKZ7aXtz-4O9Mm4ncXjEYRB8-p\", \"/content/checkpoints.zip\", quiet=False)\n",
        "!unzip -o /content/checkpoints.zip -d /content/video-retalking/"
      ],
      "metadata": {
        "cellView": "form",
        "id": "MpsyVNqMw6RD"
      },
      "execution_count": null,
      "outputs": []
    },
    {
      "cell_type": "code",
      "source": [
        "#@title **Inference**\n",
        "\n",
        "!python3 inference.py \\\n",
        "  --face examples/face/1.mp4 \\\n",
        "  --audio examples/audio/1.wav \\\n",
        "  --outfile results/1_1.mp4"
      ],
      "metadata": {
        "id": "OGYgo15KwQb1"
      },
      "execution_count": null,
      "outputs": []
    },
    {
      "cell_type": "code",
      "source": [
        "#@markdown ## **View the result video in browser**\n",
        "from IPython.display import HTML\n",
        "from base64 import b64encode\n",
        "mp4 = open('results/1_1.mp4','rb').read()\n",
        "data_url = \"data:video/mp4;base64,\" + b64encode(mp4).decode()\n",
        "HTML(\"\"\"\n",
        "<video width=400 controls>\n",
        "      <source src=\"%s\" type=\"video/mp4\">\n",
        "</video>\n",
        "\"\"\" % data_url)"
      ],
      "metadata": {
        "cellView": "form",
        "id": "49cunETU07_V"
      },
      "execution_count": null,
      "outputs": []
    }
  ]
}
